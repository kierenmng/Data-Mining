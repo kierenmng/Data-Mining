{
 "cells": [
  {
   "cell_type": "markdown",
   "metadata": {},
   "source": [
    "# Homework 1\n",
    "***\n",
    "**Name**: **Kieren Ng**\n",
    "***\n",
    "\n",
    "This assignment is due on Moodle by **09:30am on Thrusday September 13th**. Submit only this Jupyter notebook to Moodle.  Do not compress it using tar, rar, zip, etc. Your solutions to analysis questions should be done in Markdown directly below the associated question.  Remember that you are encouraged to discuss the problems with your instructors and classmates, but **you must write all code and solutions on your own**."
   ]
  },
  {
   "cell_type": "markdown",
   "metadata": {},
   "source": [
    "The rules to be followed for the assignment are:\n",
    "\n",
    "- Do **NOT** load or use any Python packages that are not available in Anaconda 3.6. \n",
    "- Some problems with code may be autograded.  If we provide a function or class API **do not** change it.\n",
    "- Do not change the location of the data or data directory.  Use only relative paths to access the data. "
   ]
  },
  {
   "cell_type": "code",
   "execution_count": 41,
   "metadata": {
    "collapsed": true
   },
   "outputs": [],
   "source": [
    "import argparse\n",
    "import pandas as pd\n",
    "import numpy as np\n",
    "import pickle\n",
    "#added csv, math\n",
    "import csv\n",
    "import math\n",
    "from pathlib import Path"
   ]
  },
  {
   "cell_type": "markdown",
   "metadata": {},
   "source": [
    "### [5 points] Problem 1\n",
    "***\n",
    "\n",
    "The Function below should for the ith column calculate and return: \n",
    "- Number of objects\n",
    "- The minimum value\n",
    "- The maximum value\n",
    "- The mean value\n",
    "- The standard deviation value\n",
    "- The Q1 value\n",
    "- The median value\n",
    "- The Q3 value\n",
    "- The IQR value\n",
    "\n",
    "Note:\n",
    "- Download the data file and store it in the location \"data/dataset.csv\" . Please maintain this as it would be necessary while grading.\n",
    "- Do not change the variable names of the returned values.\n",
    "- After calculating each of those values, assign them to the corresponding value that is being returned.\n",
    "- The ithAttribute value can range from 1 - 13"
   ]
  },
  {
   "cell_type": "code",
   "execution_count": 79,
   "metadata": {
    "collapsed": true
   },
   "outputs": [],
   "source": [
    "def calculate( dataFile, col_num):\n",
    "    \"\"\"\n",
    "    Input Parameters:\n",
    "        dataFile: The dataset file.\n",
    "        ithAttre: The ith attribute for which the various properties must be calculated.\n",
    "\n",
    "    Default value of 0,infinity,-infinity are assigned to all the variables as required. \n",
    "    \"\"\"\n",
    "    \n",
    "    numObj, minValue, maxValue, mean, stdev, Q1, median, Q3, IQR = [0,\"inf\",\"-inf\",0,0,0,0,0,0]\n",
    "    #temp min and max value that doesn't have a number, to be replaced every new min/max value found in loop\n",
    "    tempMin = None\n",
    "    tempMax = None\n",
    "    #this value will just be a temporary total to be used in other calculations\n",
    "    tempTotal = 0\n",
    "    #this value is the squared difference for the variance calc\n",
    "    squareDiff = 0\n",
    "    \n",
    "    #read in the file first, skipping header line\n",
    "    with open(dataFile) as fileData:\n",
    "        header = next(fileData)    \n",
    "        for row in csv.reader(fileData):\n",
    "            \n",
    "            #simple increment every row to count the number of objects\n",
    "            numObj += 1\n",
    "            \n",
    "            #find the minimum value here- if you come across a lower value, set tempMin to that\n",
    "            if (tempMin == None or tempMin > row[col_num]):\n",
    "                tempMin = row[col_num]\n",
    "            \n",
    "            #find the max value here, same as min but the opposite\n",
    "            if (tempMax == None or tempMax < row[col_num]):\n",
    "                tempMax = row[col_num]\n",
    "                \n",
    "            #find the mean by adding volumn up, dividing by count\n",
    "            tempTotal += float(row[col_num])\n",
    "            \n",
    "    #set temp variables to official variable names, force floats bc was causing errors for official variables in tests\n",
    "    minValue = float(tempMin)\n",
    "    maxValue = float(tempMax)\n",
    "    mean = float(tempTotal/numObj)\n",
    "    \n",
    "    arr = []\n",
    "    #loops through again, so I can use the mean in stdev calcs, and add numbers to array arr\n",
    "    with open(dataFile) as fileData:\n",
    "        header = next(fileData)\n",
    "        for row in csv.reader(fileData):\n",
    "            squareDiff += ((float(row[col_num]) - mean) * (float(row[col_num]) - mean))\n",
    "            arr.append(float(row[col_num]))\n",
    "    \n",
    "    #calculate variance, set official variable to the sqrt of variance. Use numpy to find q1 median and q3 easily.\n",
    "    squareDiff = float(squareDiff/numObj)\n",
    "    stdev = float(math.sqrt(squareDiff))\n",
    "    Q1 = float(np.percentile(arr, 25))\n",
    "    median = float(np.percentile(arr, 50))\n",
    "    Q3 = float(np.percentile(arr, 75))\n",
    "    IQR = float(Q3 - Q1)\n",
    "    \n",
    "    '''\n",
    "    print(numObj)\n",
    "    print(minValue)\n",
    "    print(maxValue)\n",
    "    print(mean)\n",
    "    print(stdev)\n",
    "    print(Q1)\n",
    "    print(median)\n",
    "    print(Q3)\n",
    "    print(IQR)\n",
    "    '''\n",
    "    \n",
    "    #YOUR TASK: Write code to assign the values to the respective variables.\n",
    "    return numObj, minValue, maxValue, mean, stdev, Q1, median, Q3, IQR"
   ]
  },
  {
   "cell_type": "markdown",
   "metadata": {},
   "source": [
    "### Here are the unit tests. You don't need to modify them. Simply execute the cell and observe the output."
   ]
  },
  {
   "cell_type": "code",
   "execution_count": 80,
   "metadata": {},
   "outputs": [
    {
     "name": "stderr",
     "output_type": "stream",
     "text": [
      ".\n",
      "----------------------------------------------------------------------\n",
      "Ran 1 test in 0.814s\n",
      "\n",
      "OK\n"
     ]
    },
    {
     "data": {
      "text/plain": [
       "<unittest.runner.TextTestResult run=1 errors=0 failures=0>"
      ]
     },
     "execution_count": 80,
     "metadata": {},
     "output_type": "execute_result"
    }
   ],
   "source": [
    "import unittest\n",
    "\n",
    "class TestKnn(unittest.TestCase):\n",
    "    def setUp(self):\n",
    "        self.loc = \"data/dataset.csv\"\n",
    "        file = open('data/testing', 'rb')\n",
    "        self.data = pickle.load(file)\n",
    "        file.close()\n",
    "        \n",
    "    def test0(self):\n",
    "        \"\"\"\n",
    "        Test the label counter \n",
    "        \"\"\"\n",
    "        self.column = self.data[0]\n",
    "        result = calculate(self.loc,self.column)\n",
    "        self.assertEqual(result[0],self.data[1][0])\n",
    "        self.assertAlmostEqual(result[1],self.data[1][1], places = 1)\n",
    "        self.assertAlmostEqual(result[2],self.data[1][2], places = 1)\n",
    "        self.assertAlmostEqual(result[3],self.data[1][3], places = 1)\n",
    "        self.assertAlmostEqual(result[4],self.data[1][4], places = 1)\n",
    "        self.assertAlmostEqual(result[5],self.data[1][5], places = 1)\n",
    "        self.assertAlmostEqual(result[6],self.data[1][6], places = 1)\n",
    "   \n",
    "tests = TestKnn()\n",
    "tests_to_run = unittest.TestLoader().loadTestsFromModule(tests)\n",
    "unittest.TextTestRunner().run(tests_to_run)"
   ]
  },
  {
   "cell_type": "code",
   "execution_count": null,
   "metadata": {
    "collapsed": true
   },
   "outputs": [],
   "source": []
  }
 ],
 "metadata": {
  "kernelspec": {
   "display_name": "Python 3",
   "language": "python",
   "name": "python3"
  },
  "language_info": {
   "codemirror_mode": {
    "name": "ipython",
    "version": 3
   },
   "file_extension": ".py",
   "mimetype": "text/x-python",
   "name": "python",
   "nbconvert_exporter": "python",
   "pygments_lexer": "ipython3",
   "version": "3.6.1"
  }
 },
 "nbformat": 4,
 "nbformat_minor": 2
}
